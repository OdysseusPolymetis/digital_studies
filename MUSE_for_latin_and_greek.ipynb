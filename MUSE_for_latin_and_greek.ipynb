{
  "nbformat": 4,
  "nbformat_minor": 0,
  "metadata": {
    "colab": {
      "provenance": [],
      "machine_shape": "hm",
      "authorship_tag": "ABX9TyPxMCHKDfhp/JoKoMTWhBSh",
      "include_colab_link": true
    },
    "kernelspec": {
      "name": "python3",
      "display_name": "Python 3"
    },
    "language_info": {
      "name": "python"
    },
    "gpuClass": "standard",
    "accelerator": "GPU"
  },
  "cells": [
    {
      "cell_type": "markdown",
      "metadata": {
        "id": "view-in-github",
        "colab_type": "text"
      },
      "source": [
        "<a href=\"https://colab.research.google.com/github/OdysseusPolymetis/digital_studies/blob/main/MUSE_for_latin_and_greek.ipynb\" target=\"_parent\"><img src=\"https://colab.research.google.com/assets/colab-badge.svg\" alt=\"Open In Colab\"/></a>"
      ]
    },
    {
      "cell_type": "markdown",
      "source": [
        "#**<center>Monolingual to multilingual mapping</center>**"
      ],
      "metadata": {
        "id": "rcpchxEprTOD"
      }
    },
    {
      "cell_type": "markdown",
      "source": [
        "Clonage de MUSE"
      ],
      "metadata": {
        "id": "zXAdeyCQrpjf"
      }
    },
    {
      "cell_type": "code",
      "source": [
        "!git clone https://github.com/facebookresearch/MUSE.git"
      ],
      "metadata": {
        "id": "cPCUVipFxp9g"
      },
      "execution_count": null,
      "outputs": []
    },
    {
      "cell_type": "markdown",
      "source": [
        "Imports"
      ],
      "metadata": {
        "id": "sbNu0fkrUKhb"
      }
    },
    {
      "cell_type": "code",
      "source": [
        "import os\n",
        "import cltk\n",
        "import pickle\n",
        "from gensim.models.fasttext import FastText\n",
        "import matplotlib.pyplot as plt\n",
        "import matplotlib.ticker as ticker\n",
        "import numpy as np"
      ],
      "metadata": {
        "id": "AY02AvCK8_D7"
      },
      "execution_count": null,
      "outputs": []
    },
    {
      "cell_type": "markdown",
      "source": [
        "Connexion au drive pour récupérer le corpus lemmatisé"
      ],
      "metadata": {
        "id": "fO2GnDYyru5h"
      }
    },
    {
      "cell_type": "code",
      "source": [
        "from google.colab import drive\n",
        "drive.mount('/content/drive')"
      ],
      "metadata": {
        "id": "t08seEnL2qDi"
      },
      "execution_count": null,
      "outputs": []
    },
    {
      "cell_type": "code",
      "source": [
        "with open('/content/drive/MyDrive/embeddings_save/lemmatized_greek_perseus.pkl', 'rb') as file:\n",
        "    greek_corpus_processed = pickle.load(file)"
      ],
      "metadata": {
        "id": "wASaxv3R21iB"
      },
      "execution_count": null,
      "outputs": []
    },
    {
      "cell_type": "code",
      "source": [
        "with open('/content/drive/MyDrive/embeddings_save/lemmatized_latin_perseus.pkl', 'rb') as file:\n",
        "    latin_corpus_processed = pickle.load(file)"
      ],
      "metadata": {
        "id": "KRnESNcg2_G-"
      },
      "execution_count": null,
      "outputs": []
    },
    {
      "cell_type": "markdown",
      "source": [
        "Vérification de la récupération"
      ],
      "metadata": {
        "id": "zRiDzusUr0I2"
      }
    },
    {
      "cell_type": "markdown",
      "source": [
        "**Liste des auteurs avec leur clé :**\n",
        "<br>Platon (tlg0059)\n",
        "<br>Aristote (tlg0086)\n",
        "<br>Héraclite (tlg0626)\n",
        "<br>Démocrite (tlg1304)\n",
        "<br>Pythagore (tlg0632)\n",
        "<br>Antisthène (tlg0591)\n",
        "<br>Parménide (tlg1562)\n",
        "<br>Thales (tlg1705)\n",
        "<br>Alcidamas (tlg0610)\n",
        "\n",
        "<br>Cicéron (phi0474\n",
        "<br>Sénèque (phi1017 0255 1014)\n",
        "<br>Epictète (phi0557)\n",
        "<br>Musonius Rufus (phi0628)\n",
        "<br>Lucrèce (phi0550\n",
        "<br>Marc Aurele (phi0562)\n",
        "<br>Aulu Gelle (phi1254)\n",
        "<br>Quintilien (phi1002)\n",
        "<br>Boèce (phi0058)\n",
        "<br>Varron (phi0684)\n",
        "<br>Apulée (phi1212)"
      ],
      "metadata": {
        "id": "UituIHzJp4kk"
      }
    },
    {
      "cell_type": "code",
      "source": [
        "# Endroit où stocker tous les auteurs disponibles\n",
        "grc_target_authors = [\"tlg0059\",\"tlg0086\",\"tlg1325\", \"tlg0626\",\"tlg1304\",\"tlg0632\",\"tlg0591\",\"tlg0593\",\"tlg1562\",\"tlg1705\",\"tlg0014\",\"tlg0610\"]\n",
        "lat_target_authors = [\"phi0474\", \"phi1017\",\"stoa0255\",\"phi1014\",\"tlg0557\",\"phi0550\",\"tlg0628\",\"tlg0562\",\"phi1254\",\"phi1002\",\"stoa0058\",\"phi0684\",\"phi1212\"]"
      ],
      "metadata": {
        "id": "RrbndtKJ8zKG"
      },
      "execution_count": null,
      "outputs": []
    },
    {
      "cell_type": "code",
      "source": [
        "#Première tranche latine\n",
        "grc_target_authors = [\"tlg0059\",\"tlg0086\",\"tlg1325\", \"tlg0626\",\"tlg1304\",\"tlg0632\",\"tlg0591\",\"tlg0593\",\"tlg1562\",\"tlg1705\",\"tlg0014\",\"tlg0610\"]\n",
        "lat_target_authors = [\"phi0474\", \"phi1017\",\"stoa0255\",\"phi1014\",\"tlg0557\",\"phi0684\"]"
      ],
      "metadata": {
        "id": "qj172mYc5QeK"
      },
      "execution_count": null,
      "outputs": []
    },
    {
      "cell_type": "code",
      "source": [
        "#Seconde tranche latine\n",
        "grc_target_authors = [\"tlg0059\",\"tlg0086\",\"tlg1325\", \"tlg0626\",\"tlg1304\",\"tlg0632\",\"tlg0591\",\"tlg0593\",\"tlg1562\",\"tlg1705\",\"tlg0014\",\"tlg0610\"]\n",
        "lat_target_authors = [\"phi0550\", \"tlg0628\", \"tlg0562\", \"phi1254\", \"phi1002\", \"stoa0058\", \"phi1212\"]"
      ],
      "metadata": {
        "id": "a4VQpZ7IJMqK"
      },
      "execution_count": null,
      "outputs": []
    },
    {
      "cell_type": "code",
      "source": [
        "auteurs = [\n",
        "    (\"Thalès\", -624, -546),\n",
        "    (\"Pythagore\", -570, -495),\n",
        "    (\"Héraclite\", -535, -475),\n",
        "    (\"Parménide\", -515, -450),\n",
        "    (\"Alcidamas\", -450, -400),  # Les dates pour Alcidamas sont approximatives\n",
        "    (\"Antisthène\", -445, -365),\n",
        "    (\"Platon\", -427, -347),\n",
        "    (\"Démocrite\", -460, -370),\n",
        "    (\"Aristote\", -384, -322),\n",
        "    (\"Cicéron\", -106, -43),\n",
        "    (\"Lucrèce\", -99, -55),\n",
        "    (\"Varron\", -116, -27),\n",
        "    (\"Sénèque\", -4, 65),\n",
        "    (\"Épictète\", 50, 135),\n",
        "    (\"Musonius Rufus\", 20, 101),\n",
        "    (\"Quintilien\", 35, 100),\n",
        "    (\"Marc Aurèle\", 121, 180),\n",
        "    (\"Apulée\", 124, 170),\n",
        "    (\"Aulu Gelle\", 125, 180),  # Les dates pour Aulu Gelle sont approximatives\n",
        "    (\"Boèce\", 477, 524)\n",
        "]"
      ],
      "metadata": {
        "id": "CnjtSY3uvjsO"
      },
      "execution_count": null,
      "outputs": []
    },
    {
      "cell_type": "code",
      "source": [
        "auteurs = auteurs[::-1]\n",
        "\n",
        "# Tracer le diagramme de Gantt\n",
        "fig, ax = plt.subplots(figsize=(10, 12))\n",
        "y_labels = []\n",
        "y_ticks = []\n",
        "for i, (auteur, naissance, mort) in enumerate(auteurs):\n",
        "    ax.broken_barh([(naissance, mort-naissance)], (i-0.4, 0.8), facecolors=('orange'), edgecolor=('black'))\n",
        "    y_labels.append(auteur)\n",
        "    y_ticks.append(i)\n",
        "\n",
        "ax.set_xlabel(\"Années\")\n",
        "ax.set_yticks(y_ticks)\n",
        "ax.set_yticklabels(y_labels)\n",
        "ax.grid(True, which='both', linestyle='--', linewidth=0.5)\n",
        "plt.title('Durée de vie des auteurs antiques')\n",
        "plt.tight_layout()\n",
        "plt.show()"
      ],
      "metadata": {
        "id": "0tejnurfvoDT"
      },
      "execution_count": null,
      "outputs": []
    },
    {
      "cell_type": "markdown",
      "source": [
        "Tri des textes sur la base des auteurs demandés"
      ],
      "metadata": {
        "id": "vwzRJqs-r6tk"
      }
    },
    {
      "cell_type": "code",
      "source": [
        "lat_sentences = []\n",
        "grc_sentences = []\n",
        "\n",
        "for cle_auteur in lat_target_authors:\n",
        "    for cle, valeur in latin_corpus_processed.items():\n",
        "        if cle_auteur in cle:\n",
        "            lat_sentences.extend(valeur)\n",
        "\n",
        "for cle_auteur in grc_target_authors:\n",
        "    for cle, valeur in greek_corpus_processed.items():\n",
        "        if cle_auteur in cle:\n",
        "            grc_sentences.extend(valeur)"
      ],
      "metadata": {
        "id": "6M7H1BMj78FE"
      },
      "execution_count": null,
      "outputs": []
    },
    {
      "cell_type": "markdown",
      "source": [
        "Création des vecteurs, avec des dimensions équivalentes"
      ],
      "metadata": {
        "id": "w9boypn5sIfb"
      }
    },
    {
      "cell_type": "code",
      "source": [
        "model_lat = FastText(vector_size=300, window=50, min_count=2)\n",
        "model_grc = FastText(vector_size=300, window=50, min_count=2)\n",
        "model_lat.build_vocab(lat_sentences)\n",
        "model_lat.train(lat_sentences, total_examples=model_lat.corpus_count, epochs=10)\n",
        "model_grc.build_vocab(grc_sentences)\n",
        "model_grc.train(grc_sentences, total_examples=model_grc.corpus_count, epochs=10)"
      ],
      "metadata": {
        "id": "7SceAuOpqjzH"
      },
      "execution_count": null,
      "outputs": []
    },
    {
      "cell_type": "markdown",
      "source": [
        "Vérification qu'il n'y a pas de clé vide"
      ],
      "metadata": {
        "id": "YY8evUDKsQNu"
      }
    },
    {
      "cell_type": "code",
      "source": [
        "similar_words = model_lat.wv.most_similar('')"
      ],
      "metadata": {
        "id": "bl5NLgrSqv3k"
      },
      "execution_count": null,
      "outputs": []
    },
    {
      "cell_type": "markdown",
      "source": [
        "Adaptation des vecteurs FastText pour MUSE"
      ],
      "metadata": {
        "id": "9X0-vMzUsU6L"
      }
    },
    {
      "cell_type": "code",
      "source": [
        "def export_fasttext_vectors_to_text(model, output_path):\n",
        "    # Ouvrir le fichier de sortie\n",
        "    with open(output_path, 'w', encoding='utf-8') as f:\n",
        "        # Écrire le nombre de mots et la taille des embeddings (dimension)\n",
        "        f.write(f\"{len(model.wv.index_to_key)} {model.vector_size}\\n\")\n",
        "\n",
        "        # Pour chaque mot dans le vocabulaire du modèle\n",
        "        for word in model.wv.index_to_key:\n",
        "            # Remplacer les espaces dans le mot par des underscores\n",
        "            sanitized_word = word.replace(' ', '_').lower()\n",
        "\n",
        "            # Écrire le mot\n",
        "            f.write(sanitized_word + ' ')\n",
        "\n",
        "            # Écrire le vecteur associé à ce mot\n",
        "            vector_str = ' '.join(map(str, model.wv[word]))\n",
        "            f.write(vector_str + '\\n')\n"
      ],
      "metadata": {
        "id": "IakTNMK-_wY2"
      },
      "execution_count": null,
      "outputs": []
    },
    {
      "cell_type": "code",
      "source": [
        "output_lat_path = '/content/embeddings_lat3.vec'\n",
        "output_grc_path = '/content/embeddings_grc.vec'\n",
        "export_fasttext_vectors_to_text(model_lat, output_lat_path)\n",
        "export_fasttext_vectors_to_text(model_grc, output_grc_path)"
      ],
      "metadata": {
        "id": "OkVBw9anAEvs"
      },
      "execution_count": null,
      "outputs": []
    },
    {
      "cell_type": "markdown",
      "source": [
        "Reprise des paires de mots : les données étant sous droit ou en passe d'être normalisées, elles ne sont pas accessibles ici. Pour paramétrer le dictionnaire, il vous faut des paires de mots sous cette forme:\n",
        "<br><br>\n",
        "`motSource \\t motCible`"
      ],
      "metadata": {
        "id": "VMApHkfcsjvm"
      }
    },
    {
      "cell_type": "markdown",
      "source": [
        "Préparation du dictionnaire pour MUSE (il ne doit pas y avoir de mots inconnus dans le dictionnaire)"
      ],
      "metadata": {
        "id": "gP4oib7TspOX"
      }
    },
    {
      "cell_type": "code",
      "source": [
        "# Charger les embeddings\n",
        "src_words = set()\n",
        "with open(\"/content/embeddings_grc.vec\", \"r\", encoding=\"utf-8\") as f:\n",
        "    next(f)  # skip the header line\n",
        "    for line in f:\n",
        "        word = line.split()[0]\n",
        "        src_words.add(word)\n",
        "\n",
        "tgt_words = set()\n",
        "with open(\"/content/embeddings_lat3.vec\", \"r\", encoding=\"utf-8\") as f:\n",
        "    next(f)  # skip the header line\n",
        "    for line in f:\n",
        "        word = line.split()[0]\n",
        "        tgt_words.add(word)\n",
        "\n",
        "# Filtrer le dictionnaire de supervision\n",
        "with open(\"/content/all_pairs.tsv\", \"r\", encoding=\"utf-8\") as f, open(\"/content/filtered_pairs.txt\", \"w\", encoding=\"utf-8\") as fout:\n",
        "    for line in f:\n",
        "        values = line.strip().split(\"\\t\")  # Split by tab\n",
        "        if len(values) < 2:  # Ensure there are at least 2 values\n",
        "            print(f\"Skipping malformed line: {line.strip()}\")\n",
        "            continue\n",
        "\n",
        "        # Retrieve and clean the words\n",
        "        src_word = values[0].replace(\"(grc)\", \"\").strip()\n",
        "        tgt_word = values[1].replace(\"(lat)\", \"\").strip()\n",
        "\n",
        "        if src_word in src_words and tgt_word in tgt_words:\n",
        "            fout.write(f\"{src_word.lower()}\\t{tgt_word.lower()}\\n\")\n"
      ],
      "metadata": {
        "id": "vf9ENHJBE5aM"
      },
      "execution_count": null,
      "outputs": []
    },
    {
      "cell_type": "markdown",
      "source": [
        "Vérification du dictionnaire"
      ],
      "metadata": {
        "id": "vx3J319vtMiQ"
      }
    },
    {
      "cell_type": "code",
      "source": [
        "def load_embedding_words(filepath):\n",
        "    \"\"\"Chargez tous les mots d'un fichier d'embeddings.\"\"\"\n",
        "    with open(filepath, 'r', encoding='utf-8') as f:\n",
        "        # Ignorez la première ligne (nombre de mots et dimensions)\n",
        "        f.readline()\n",
        "        # Récupérez tous les mots du fichier\n",
        "        words = {line.split()[0] for line in f}\n",
        "    return words\n",
        "\n",
        "def check_words_in_embeddings(embedding_path, pair_path, column=0):\n",
        "    \"\"\"Vérifiez si les mots du fichier de paires sont présents dans les embeddings.\"\"\"\n",
        "    embedding_words = load_embedding_words(embedding_path)\n",
        "    missing_words = []\n",
        "\n",
        "    with open(pair_path, 'r', encoding='utf-8') as f:\n",
        "        for line in f:\n",
        "            word = line.strip().split()[column]  # Prenez le mot en fonction de la colonne\n",
        "            if word not in embedding_words:\n",
        "                missing_words.append(word)\n",
        "\n",
        "    return missing_words\n",
        "\n",
        "src_embedding_path = '/content/embeddings_grc.vec'\n",
        "tgt_embedding_path = '/content/embeddings_lat3.vec'\n",
        "pair_path = '/content/filtered_pairs.txt'\n",
        "\n",
        "missing_src_words = check_words_in_embeddings(src_embedding_path, pair_path, column=0)\n",
        "missing_tgt_words = check_words_in_embeddings(tgt_embedding_path, pair_path,column=1)\n",
        "\n",
        "print(\"Mots manquants dans les embeddings source:\", missing_src_words)\n",
        "print(\"Mots manquants dans les embeddings cibles:\", missing_tgt_words)"
      ],
      "metadata": {
        "id": "6vhrhqToHjAH"
      },
      "execution_count": null,
      "outputs": []
    },
    {
      "cell_type": "markdown",
      "source": [
        "Vérification des fichiers de vecteurs"
      ],
      "metadata": {
        "id": "Nl1EV6yttQj1"
      }
    },
    {
      "cell_type": "code",
      "source": [
        "def verify_vec_file(filepath):\n",
        "    with open(filepath, 'r', encoding='utf-8') as f:\n",
        "        # lire la première ligne\n",
        "        first_line = f.readline().strip().split()\n",
        "        if len(first_line) != 2:\n",
        "            return False, \"La première ligne est mal formatée.\"\n",
        "\n",
        "        num_words, dim = map(int, first_line)\n",
        "\n",
        "        # vérifier chaque ligne\n",
        "        for idx, line in enumerate(f, 1):\n",
        "            tokens = line.strip().split()\n",
        "            if len(tokens) != dim + 1:\n",
        "                return False, f\"Ligne {idx + 1} mal formatée. Attendu {dim + 1} tokens, obtenu {len(tokens)}\"\n",
        "\n",
        "    return True, \"Fichier .vec valide.\"\n",
        "\n",
        "# Testez vos fichiers\n",
        "src_verification = verify_vec_file('/content/embeddings_grc.vec')\n",
        "tgt_verification = verify_vec_file('/content/embeddings_lat3.vec')\n",
        "\n",
        "print(\"Vérification des embeddings source:\", src_verification)\n",
        "print(\"Vérification des embeddings cibles:\", tgt_verification)"
      ],
      "metadata": {
        "id": "nZWkd2AXLKp2"
      },
      "execution_count": null,
      "outputs": []
    },
    {
      "cell_type": "markdown",
      "source": [
        "## Lancement de MUSE"
      ],
      "metadata": {
        "id": "5JQAO-mDtT6Y"
      }
    },
    {
      "cell_type": "code",
      "source": [
        "!python /content/MUSE/supervised.py --src_emb /content/embeddings_grc.vec --tgt_emb /content/embeddings_lat3.vec --dico_train /content/filtered_pairs.txt --dico_eval /content/filtered_pairs.txt"
      ],
      "metadata": {
        "id": "9bdiw-ZyCnhn"
      },
      "execution_count": null,
      "outputs": []
    },
    {
      "cell_type": "code",
      "source": [
        "from gensim.models import KeyedVectors\n",
        "\n",
        "# Chargement des embeddings\n",
        "grc_vectors = KeyedVectors.load_word2vec_format('/content/MUSE/dumped/debug/1bq81qr2w1/vectors-en.txt')\n",
        "lat_vectors = KeyedVectors.load_word2vec_format('/content/MUSE/dumped/debug/1bq81qr2w1/vectors-es.txt')\n",
        "\n",
        "def get_most_similar(word, src_vectors, trg_vectors, topn=10):\n",
        "    if word not in src_vectors:\n",
        "        return []\n",
        "\n",
        "    grc_vector = src_vectors[word]\n",
        "\n",
        "    # Calculer la similarité avec chaque mot en latin\n",
        "    similarities = {}\n",
        "    for lat_word in trg_vectors.index_to_key:\n",
        "        lat_vector = trg_vectors[lat_word]\n",
        "        similarity = src_vectors.cosine_similarities(grc_vector, [lat_vector])[0]\n",
        "        similarities[lat_word] = similarity\n",
        "\n",
        "    sorted_words = sorted(similarities.keys(), key=lambda x: similarities[x], reverse=True)\n",
        "\n",
        "    return sorted_words[:topn]"
      ],
      "metadata": {
        "id": "mOxXO8Y9Uc4u"
      },
      "execution_count": null,
      "outputs": []
    },
    {
      "cell_type": "code",
      "source": [
        "print(get_most_similar(\"δόξα\", grc_vectors, lat_vectors))"
      ],
      "metadata": {
        "id": "yTn2oos2lJEf"
      },
      "execution_count": null,
      "outputs": []
    }
  ]
}